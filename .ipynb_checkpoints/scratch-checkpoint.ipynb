{
 "cells": [
  {
   "cell_type": "code",
   "execution_count": 20,
   "metadata": {},
   "outputs": [],
   "source": [
    "from main_script import read_mhunter_csv, calculate_labelling, read_atomic_composition\n",
    "from Class import Record\n",
    "\n",
    "import numpy as np\n",
    "import pandas as pd\n",
    "\n",
    "import re"
   ]
  },
  {
   "cell_type": "code",
   "execution_count": 32,
   "metadata": {},
   "outputs": [
    {
     "name": "stdout",
     "output_type": "stream",
     "text": [
      "Could not convert \n",
      "\n"
     ]
    }
   ],
   "source": [
    "mhunter_records = read_mhunter_csv('sample_files/sample_input_data.csv', verbose=False)"
   ]
  },
  {
   "cell_type": "code",
   "execution_count": 18,
   "metadata": {},
   "outputs": [],
   "source": [
    "record_list = []\n",
    "isotope_list = []\n",
    "fp = open(\"sample_files/sample_input_data.csv\", 'r')\n",
    "lines = fp.readlines()"
   ]
  },
  {
   "cell_type": "code",
   "execution_count": 16,
   "metadata": {},
   "outputs": [
    {
     "name": "stdout",
     "output_type": "stream",
     "text": [
      "[]\n",
      "['M0 Results']\n",
      "['M+1 Results']\n",
      "['M+2 Results']\n",
      "['M+3 Results']\n",
      "['M+4 Results']\n",
      "['M+5 Results']\n",
      "['M+6 Results']\n",
      "['M+7 Results']\n",
      "['M+0 Results']\n",
      "['M+1 Results']\n",
      "['M+2 Results']\n",
      "['M+3 Results']\n",
      "['M+4 Results']\n",
      "['M+5 Results']\n",
      "['M+6 Results']\n",
      "['M+7 Results']\n"
     ]
    }
   ],
   "source": [
    "pattern = r\"M\\+?\\d{1,2} Results\"\n",
    "for i, colname in enumerate(lines[0].split(',')):\n",
    "    t = re.findall(pattern, colname)\n",
    "    print(t)\n",
    "    "
   ]
  },
  {
   "cell_type": "code",
   "execution_count": 21,
   "metadata": {},
   "outputs": [],
   "source": [
    "for i,word in enumerate(lines[0].split(',')):\n",
    "    if ' M' in word:\n",
    "        parts = word.split(' M')\n",
    "        species_name = parts[0]\n",
    "\n",
    "        test = False\n",
    "        for record in record_list:\n",
    "            if record.name == species_name:\n",
    "                test = True\n",
    "                record.add_record_position(i)\n",
    "            else:\n",
    "                pass\n",
    "        if test == False: # if we haven't seen this before\n",
    "            record = Record(species_name)\n",
    "            record.add_record_position(i)\n",
    "            record_list.append(record)"
   ]
  },
  {
   "cell_type": "code",
   "execution_count": 30,
   "metadata": {},
   "outputs": [
    {
     "data": {
      "text/plain": [
       "'ribose'"
      ]
     },
     "execution_count": 30,
     "metadata": {},
     "output_type": "execute_result"
    }
   ],
   "source": [
    "record_list[0].name\n",
    "record_list[1].name"
   ]
  },
  {
   "cell_type": "code",
   "execution_count": null,
   "metadata": {},
   "outputs": [],
   "source": []
  },
  {
   "cell_type": "code",
   "execution_count": null,
   "metadata": {},
   "outputs": [],
   "source": []
  }
 ],
 "metadata": {
  "kernelspec": {
   "display_name": "Python 3",
   "language": "python",
   "name": "python3"
  },
  "language_info": {
   "codemirror_mode": {
    "name": "ipython",
    "version": 3
   },
   "file_extension": ".py",
   "mimetype": "text/x-python",
   "name": "python",
   "nbconvert_exporter": "python",
   "pygments_lexer": "ipython3",
   "version": "3.7.3"
  }
 },
 "nbformat": 4,
 "nbformat_minor": 2
}
