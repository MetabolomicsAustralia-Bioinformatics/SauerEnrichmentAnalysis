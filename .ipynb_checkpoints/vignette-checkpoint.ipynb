{
 "cells": [
  {
   "cell_type": "code",
   "execution_count": 1,
   "metadata": {},
   "outputs": [],
   "source": [
    "from main_script import read_mhunter_csv, calculate_labelling, read_atomic_composition\n",
    "from Class import Record, Labelling\n",
    "\n",
    "import numpy as np\n",
    "import pandas as pd\n",
    "\n",
    "import re"
   ]
  },
  {
   "cell_type": "code",
   "execution_count": 2,
   "metadata": {},
   "outputs": [
    {
     "name": "stdout",
     "output_type": "stream",
     "text": [
      "Could not convert \n",
      "\n"
     ]
    }
   ],
   "source": [
    "# Read all the relevant files\n",
    "records = read_mhunter_csv('sample_files/sample_input_data.csv')\n",
    "atomic_composition, N_dict = read_atomic_composition('sample_files/sample_input_formulae.csv')\n",
    "fp = open('sample_files/out_v2.csv', 'w')"
   ]
  },
  {
   "cell_type": "code",
   "execution_count": 3,
   "metadata": {},
   "outputs": [
    {
     "name": "stdout",
     "output_type": "stream",
     "text": [
      "Caution: using modified natural abundance figures\n",
      "Caution: using modified natural abundance figures\n"
     ]
    }
   ],
   "source": [
    "labelling_list = []\n",
    "max_results_length = 0\n",
    "\n",
    "for record in records:\n",
    "    results_dict = calculate_labelling(record, N_dict, atomic_composition)\n",
    "    for key, value in results_dict.items():\n",
    "        if len(value) > max_results_length:\n",
    "            max_results_length = len(value)\n",
    "    labelling_list.append(Labelling(record.get_name(), results_dict))\n"
   ]
  },
  {
   "cell_type": "code",
   "execution_count": 9,
   "metadata": {},
   "outputs": [
    {
     "data": {
      "text/plain": [
       "[0.0046402349211127755,\n",
       " 0.9926491929354164,\n",
       " 0.0001758050465485466,\n",
       " 0.001400113133457302,\n",
       " 0.0004069961801064363,\n",
       " 0.0021732912742582055,\n",
       " 0.004216384005417957,\n",
       " -0.0010217825752047351]"
      ]
     },
     "execution_count": 9,
     "metadata": {},
     "output_type": "execute_result"
    }
   ],
   "source": []
  },
  {
   "cell_type": "code",
   "execution_count": null,
   "metadata": {},
   "outputs": [],
   "source": []
  }
 ],
 "metadata": {
  "kernelspec": {
   "display_name": "Python 3",
   "language": "python",
   "name": "python3"
  },
  "language_info": {
   "codemirror_mode": {
    "name": "ipython",
    "version": 3
   },
   "file_extension": ".py",
   "mimetype": "text/x-python",
   "name": "python",
   "nbconvert_exporter": "python",
   "pygments_lexer": "ipython3",
   "version": "3.7.3"
  }
 },
 "nbformat": 4,
 "nbformat_minor": 2
}
