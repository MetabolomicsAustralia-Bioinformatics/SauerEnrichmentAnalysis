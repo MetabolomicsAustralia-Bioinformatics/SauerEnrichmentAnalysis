{
 "cells": [
  {
   "cell_type": "code",
   "execution_count": 1,
   "metadata": {},
   "outputs": [],
   "source": [
    "from main_script import read_mhunter_csv, calculate_labelling, read_atomic_composition\n",
    "import Function as xFn\n",
    "\n",
    "import numpy as np\n",
    "import pandas as pd"
   ]
  },
  {
   "cell_type": "code",
   "execution_count": 2,
   "metadata": {},
   "outputs": [
    {
     "name": "stdout",
     "output_type": "stream",
     "text": [
      "Could not convert \n",
      "\n"
     ]
    }
   ],
   "source": [
    "mhunter_records = read_mhunter_csv('sample_files/sample_input_data.csv', verbose=False)"
   ]
  },
  {
   "cell_type": "code",
   "execution_count": 4,
   "metadata": {},
   "outputs": [],
   "source": [
    "record_list = []\n",
    "isotope_list = []\n",
    "fp = open(\"sample_files/sample_input_data.csv\", 'r')\n",
    "lines = fp.readlines()"
   ]
  },
  {
   "cell_type": "code",
   "execution_count": 5,
   "metadata": {},
   "outputs": [
    {
     "name": "stdout",
     "output_type": "stream",
     "text": [
      "deoxyribose M0 Results\n",
      "deoxyribose M+1 Results\n",
      "deoxyribose M+2 Results\n",
      "deoxyribose M+3 Results\n",
      "deoxyribose M+4 Results\n",
      "deoxyribose M+5 Results\n",
      "deoxyribose M+6 Results\n",
      "deoxyribose M+7 Results\n",
      "ribose M+0 Results\n",
      "ribose M+1 Results\n",
      "ribose M+2 Results\n",
      "ribose M+3 Results\n",
      "ribose M+4 Results\n",
      "ribose M+5 Results\n",
      "ribose M+6 Results\n",
      "ribose M+7 Results\n",
      "\n"
     ]
    }
   ],
   "source": [
    "for i,word in enumerate(lines[0].split(',')):\n",
    "    if ' M' in word:\n",
    "        print(word)\n",
    "        \n"
   ]
  },
  {
   "cell_type": "code",
   "execution_count": null,
   "metadata": {},
   "outputs": [],
   "source": [
    "for cname in list(d0.columns)[3:]:\n",
    "    col0 = list(d0[cname])\n",
    "    col1 = list(d1[cname])\n",
    "    \n",
    "    print(cname)"
   ]
  },
  {
   "cell_type": "code",
   "execution_count": null,
   "metadata": {},
   "outputs": [],
   "source": [
    "label_itope_dict1[\"U-13C Glc t01 1\"]"
   ]
  },
  {
   "cell_type": "code",
   "execution_count": null,
   "metadata": {},
   "outputs": [],
   "source": []
  },
  {
   "cell_type": "code",
   "execution_count": null,
   "metadata": {},
   "outputs": [],
   "source": []
  }
 ],
 "metadata": {
  "kernelspec": {
   "display_name": "Python 3",
   "language": "python",
   "name": "python3"
  },
  "language_info": {
   "codemirror_mode": {
    "name": "ipython",
    "version": 3
   },
   "file_extension": ".py",
   "mimetype": "text/x-python",
   "name": "python",
   "nbconvert_exporter": "python",
   "pygments_lexer": "ipython3",
   "version": "3.7.3"
  }
 },
 "nbformat": 4,
 "nbformat_minor": 2
}
