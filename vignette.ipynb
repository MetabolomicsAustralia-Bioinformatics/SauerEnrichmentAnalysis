{
 "cells": [
  {
   "cell_type": "code",
   "execution_count": 1,
   "metadata": {},
   "outputs": [],
   "source": [
    "#from main_script import read_mhunter_csv, calculate_labelling, read_atomic_composition\n",
    "from SauerClass import Record, Labelling\n",
    "import SauerFunction as sf\n",
    "\n",
    "import numpy as np\n",
    "import pandas as pd\n",
    "#pd.set_option('display.max_rows', None)\n",
    "#pd.set_option('display.max_columns', None)\n",
    "\n",
    "import re"
   ]
  },
  {
   "cell_type": "code",
   "execution_count": 2,
   "metadata": {},
   "outputs": [],
   "source": [
    "# Read all the relevant files\n",
    "records = sf.read_mhunter_csv('sample_files/sample_input_data.csv')\n",
    "atomic_composition, N_dict = sf.read_atomic_composition('sample_files/sample_input_formulae.csv')\n",
    "#fp = open('sample_files/out_v2.csv', 'w')"
   ]
  },
  {
   "cell_type": "code",
   "execution_count": 6,
   "metadata": {},
   "outputs": [],
   "source": [
    "labelling_list = []\n",
    "labelling_dict = {}\n",
    "max_results_length = 0\n",
    "\n",
    "for record in records:\n",
    "    results_dict = sf.calculate_labelling(record, N_dict, atomic_composition)\n",
    "    for key, value in results_dict.items():\n",
    "        if len(value) > max_results_length:\n",
    "            max_results_length = len(value)\n",
    "    labelling_list.append(Labelling(record.get_name(), results_dict))\n",
    "    labelling_dict[record.name] = results_dict\n"
   ]
  },
  {
   "cell_type": "code",
   "execution_count": 7,
   "metadata": {},
   "outputs": [],
   "source": [
    "#fp.write(\"Species, Labelling Source, Sample Name, Labelling %,\")\n",
    "contents = \"\"\n",
    "contents = contents + \"Species, Labelling Source, Sample Name, Labelling %,\"\n",
    "for i in range(max_results_length-1):\n",
    "    #fp.write(\"m\" + str(i) + \",\")\n",
    "    contents = contents + \"m\" + str(i) + \",\"\n",
    "#fp.write(\"\\n\")\n",
    "contents += \"\\n\"\n",
    "\n",
    "for label in labelling_list:\n",
    "    species = label.get_species()\n",
    "    label_dict = label.get_label_dict()\n",
    "    names = label_dict.keys()\n",
    "    names = sorted(names)\n",
    "    i = 0\n",
    "    for name in names:\n",
    "        for key, value in label_dict.items():\n",
    "            if name == key:\n",
    "                contents += species + ','\n",
    "                #fp.write(species + ',')\n",
    "                if len(key.split(',')) == 2:\n",
    "                    #fp.write(key.split(',')[1].strip('\"') + ',')\n",
    "                    #fp.write(key.split(',')[0].strip('\"') + ',')\n",
    "                    contents += key.split(',')[1].strip('\"') + ','\n",
    "                    contents += key.split(',')[0].strip('\"') + ','\n",
    "                else:\n",
    "                    #fp.write(' ,')\n",
    "                    #fp.write(key + ',')\n",
    "                    contents += ' ,'\n",
    "                    contents += key + ','\n",
    "                for val in value:\n",
    "                    #fp.write(str(val) + ', ')\n",
    "                    contents += str(val) + ', '\n",
    "                #fp.write('\\n')\n",
    "                contents += \"\\n\"\n",
    "                \n",
    "contents = contents.split(\"\\n\")"
   ]
  },
  {
   "cell_type": "code",
   "execution_count": null,
   "metadata": {},
   "outputs": [],
   "source": []
  }
 ],
 "metadata": {
  "kernelspec": {
   "display_name": "Python 3",
   "language": "python",
   "name": "python3"
  },
  "language_info": {
   "codemirror_mode": {
    "name": "ipython",
    "version": 3
   },
   "file_extension": ".py",
   "mimetype": "text/x-python",
   "name": "python",
   "nbconvert_exporter": "python",
   "pygments_lexer": "ipython3",
   "version": "3.7.4"
  }
 },
 "nbformat": 4,
 "nbformat_minor": 4
}
